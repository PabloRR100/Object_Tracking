{
 "cells": [
  {
   "cell_type": "markdown",
   "metadata": {},
   "source": [
    "# Centroid Tracking Algorithm\n",
    "\n",
    "The centroid tracking algorithm assumes that we are passing in a set of bounding box (x, y)-coordinates for each detected object in every single frame.  \n",
    "\n",
    "These bounding boxes can be produced by any type of object detector you would like that they are computed for every frame in the video:  \n",
    "- Region Proposal Based CNNs\n",
    "- Single Shot Detector\n",
    "- YOLO \n",
    "\n",
    "### Frist Frame\n",
    "\n",
    "For the first frame we will detect the objects.  \n",
    "Because it is the first time we see them, we are sure they are different entities.  \n",
    "Therefore, we assign a different ID to each of them.  \n",
    "\n",
    "### Second Frame\n",
    "\n",
    "We are now simulating a second time frame where we will encounter new location for the points that are representing potential centroids.  \n",
    "\n",
    "The goal is to identify which point belongs to the previous centroids that we had. To do that, we will assign each of them to the closest previous centroid that they have.  \n",
    "\n",
    "This [small post][dist_post] shows how the distances calculation is done.\n",
    "\n",
    "\n",
    "[dist_post]: "
   ]
  },
  {
   "cell_type": "code",
   "execution_count": null,
   "metadata": {},
   "outputs": [],
   "source": []
  }
 ],
 "metadata": {
  "kernelspec": {
   "display_name": "Python 3",
   "language": "python",
   "name": "python3"
  },
  "language_info": {
   "codemirror_mode": {
    "name": "ipython",
    "version": 3
   },
   "file_extension": ".py",
   "mimetype": "text/x-python",
   "name": "python",
   "nbconvert_exporter": "python",
   "pygments_lexer": "ipython3",
   "version": "3.7.3"
  },
  "varInspector": {
   "cols": {
    "lenName": 16,
    "lenType": 16,
    "lenVar": 40
   },
   "kernels_config": {
    "python": {
     "delete_cmd_postfix": "",
     "delete_cmd_prefix": "del ",
     "library": "var_list.py",
     "varRefreshCmd": "print(var_dic_list())"
    },
    "r": {
     "delete_cmd_postfix": ") ",
     "delete_cmd_prefix": "rm(",
     "library": "var_list.r",
     "varRefreshCmd": "cat(var_dic_list()) "
    }
   },
   "types_to_exclude": [
    "module",
    "function",
    "builtin_function_or_method",
    "instance",
    "_Feature"
   ],
   "window_display": false
  }
 },
 "nbformat": 4,
 "nbformat_minor": 2
}
