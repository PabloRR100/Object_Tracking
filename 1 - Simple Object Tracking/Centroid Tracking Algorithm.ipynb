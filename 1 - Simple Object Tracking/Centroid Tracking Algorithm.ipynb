{
 "cells": [
  {
   "cell_type": "markdown",
   "metadata": {},
   "source": [
    "# Centroid Tracking Algorithm\n",
    "\n",
    "\n",
    "REFERENCE TO ADRIEN ROSEBROOK\n",
    "\n",
    "\n",
    "The centroid tracking algorithm assumes that we are passing in a set of bounding box (x, y)-coordinates for each detected object in every single frame.  \n",
    "\n",
    "These bounding boxes can be produced by any type of object detector you would like that they are computed for every frame in the video:  \n",
    "- Region Proposal Based CNNs\n",
    "- Single Shot Detector\n",
    "- YOLO \n",
    "\n",
    "### Frist Frame\n",
    "\n",
    "For the first frame we will detect the objects.  \n",
    "Because it is the first time we see them, we are sure they are different entities.  \n",
    "Therefore, we assign a different ID to each of them.  \n",
    "![][01_ids]\n",
    "\n",
    "### Second Frame\n",
    "\n",
    "We are now simulating a second time frame where we will encounter new location for the points that are representing potential centroids.  \n",
    "\n",
    "The goal is to identify which point belongs to the previous centroids that we had. To do that, we will assign each of them to the closest previous centroid that they have.  \n",
    "![][02_new_ids]\n",
    "\n",
    "This [small post][dist_post] shows how the distances calculation is done.\n",
    "\n",
    "\n",
    "## Different number of centroids\n",
    "\n",
    "We need to be aware that we can contemplate the scenario where an object that has been tracking dissapears (either going out from the window or because something is between the object and the camera). Also, new objects to be tracked could appear all of a sudden.  \n",
    "\n",
    "How do we handle these cases?  \n",
    "\n",
    "### Register new objects\n",
    "\n",
    "If there are more input detections than existing objects being tracked, we need to register the new object. “Registering” simply means that we are adding the new object to our list of tracked objects by:\n",
    "\n",
    "- 1: Assigning it a new object ID\n",
    "- 2: Storing the centroid of the bounding box coordinates for that object\n",
    "\n",
    "The results will therefore looks:\n",
    "![][03_regiter_id]\n",
    "\n",
    "\n",
    "### Deregister missing objects\n",
    "\n",
    "We will deregister old objects when they cannot be matched to any existing objects for a total of N subsequent frames.\n",
    "\n",
    "\n",
    "\n",
    "\n",
    "[//]: # (Images of Console)\n",
    "\n",
    "[01_ids]: https://www.pyimagesearch.com/wp-content/uploads/2018/07/simple_object_tracking_step1.png   \n",
    "\n",
    "[02_new_ids]: https://www.pyimagesearch.com/wp-content/uploads/2018/07/simple_object_tracking_step2.png\n",
    "\n",
    "[03_regiter_id]: https://www.pyimagesearch.com/wp-content/uploads/2018/07/simple_object_tracking_step4.png\n",
    "\n",
    "[//]: # (Internal Repo Links)\n",
    "[dist_post]: https://github.com/PabloRR100/Object_Tracking/blob/master/1%20-%20Simple%20Object%20Tracking/Centroid%20Distances%20Calculations/Centroid%20Distances%20Calculations.md   \n",
    "\n"
   ]
  },
  {
   "cell_type": "code",
   "execution_count": null,
   "metadata": {},
   "outputs": [],
   "source": [
    " "
   ]
  }
 ],
 "metadata": {
  "kernelspec": {
   "display_name": "Python 3",
   "language": "python",
   "name": "python3"
  },
  "language_info": {
   "codemirror_mode": {
    "name": "ipython",
    "version": 3
   },
   "file_extension": ".py",
   "mimetype": "text/x-python",
   "name": "python",
   "nbconvert_exporter": "python",
   "pygments_lexer": "ipython3",
   "version": "3.7.3"
  },
  "varInspector": {
   "cols": {
    "lenName": 16,
    "lenType": 16,
    "lenVar": 40
   },
   "kernels_config": {
    "python": {
     "delete_cmd_postfix": "",
     "delete_cmd_prefix": "del ",
     "library": "var_list.py",
     "varRefreshCmd": "print(var_dic_list())"
    },
    "r": {
     "delete_cmd_postfix": ") ",
     "delete_cmd_prefix": "rm(",
     "library": "var_list.r",
     "varRefreshCmd": "cat(var_dic_list()) "
    }
   },
   "types_to_exclude": [
    "module",
    "function",
    "builtin_function_or_method",
    "instance",
    "_Feature"
   ],
   "window_display": false
  }
 },
 "nbformat": 4,
 "nbformat_minor": 2
}
