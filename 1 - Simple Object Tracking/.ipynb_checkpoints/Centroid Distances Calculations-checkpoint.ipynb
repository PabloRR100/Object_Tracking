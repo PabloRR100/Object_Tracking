{
 "cells": [
  {
   "cell_type": "markdown",
   "metadata": {},
   "source": [
    "# Centroid distances calculation\n",
    "\n",
    "First, import the necessary libraries:\n",
    "- 1 - ```Numpy``` to create the points\n",
    "- 2 - ```Matplotlib``` to make the plots\n",
    "- 3 - ```Scipy``` to calculate the Euclidean distances"
   ]
  },
  {
   "cell_type": "code",
   "execution_count": 1,
   "metadata": {},
   "outputs": [],
   "source": [
    "import numpy as np\n",
    "import matplotlib.pyplot as plt\n",
    "from scipy.spatial import distance as dist"
   ]
  },
  {
   "cell_type": "markdown",
   "metadata": {},
   "source": [
    "#### Create the points\n",
    "*Use random seed for reproducibility*  \n",
    "```objectCentroid```: alredy tracked centroids  \n",
    "```centroids```: centroids detected in the current frame"
   ]
  },
  {
   "cell_type": "code",
   "execution_count": 3,
   "metadata": {},
   "outputs": [
    {
     "data": {
      "image/png": "[encoded data removed]",
      "text/plain": [
       "<Figure size 432x288 with 1 Axes>"
      ]
     },
     "metadata": {},
     "output_type": "display_data"
    }
   ],
   "source": [
    "np.random.seed(42)\n",
    "objectCentroids = np.random.uniform(size=(3,2)) * 10\n",
    "centroids = np.random.uniform(size=(5,2)) * 10\n",
    "        \n",
    "plt.figure()\n",
    "plt.scatter(*zip(*objectCentroids), c='r')\n",
    "plt.scatter(*zip(*centroids), c='b')\n",
    "plt.show()"
   ]
  },
  {
   "cell_type": "markdown",
   "metadata": {},
   "source": [
    "#### Calculate distances\n",
    "scipy distance function computes the distances between each pair of points on each vectors"
   ]
  },
  {
   "cell_type": "code",
   "execution_count": 4,
   "metadata": {},
   "outputs": [
    {
     "data": {
      "text/plain": [
       "array([[3.27553692, 3.31980708, 3.54475744, 8.68834075, 7.91140603],\n",
       "       [7.25066088, 1.70589385, 8.02453102, 3.99164878, 6.89290769],\n",
       "       [7.16902511, 7.09155104, 8.25106402, 6.78766632, 0.376467  ]])"
      ]
     },
     "execution_count": 4,
     "metadata": {},
     "output_type": "execute_result"
    }
   ],
   "source": [
    "D = dist.cdist(objectCentroids, centroids)\n",
    "D"
   ]
  },
  {
   "cell_type": "markdown",
   "metadata": {},
   "source": [
    "#### Understand the points\n",
    "Let's take a look at the numpy arrays created, and give number to the points to understand the distances being computed above:"
   ]
  },
  {
   "cell_type": "code",
   "execution_count": 7,
   "metadata": {},
   "outputs": [
    {
     "name": "stdout",
     "output_type": "stream",
     "text": [
      "Red points\n",
      "[[3.74540119 9.50714306]\n",
      " [7.31993942 5.98658484]\n",
      " [1.5601864  1.5599452 ]]\n",
      "Blue points\n",
      "[[0.58083612 8.66176146]\n",
      " [6.01115012 7.08072578]\n",
      " [0.20584494 9.69909852]\n",
      " [8.32442641 2.12339111]\n",
      " [1.81824967 1.8340451 ]]\n"
     ]
    }
   ],
   "source": [
    "print('Red points')\n",
    "print(objectCentroids)\n",
    "print('Blue points')\n",
    "print(centroids)"
   ]
  },
  {
   "cell_type": "markdown",
   "metadata": {},
   "source": [
    "So we could now visualize which points is each, and understand what each value of the Matrix D means.  \n",
    "D is a ```3x5``` matrix. Each row represent each of the red points and each column represent each of the blue points.  \n",
    "Therefore, each cell correpond to the distance between that pair of red-blue points\n",
    "<img src='images/globalpicture.png' style='width:55%; float:left'>"
   ]
  },
  {
   "cell_type": "markdown",
   "metadata": {},
   "source": [
    "#### Assigning points\n",
    "We are trying to answer the question:  \n",
    "**Which blue point might correspond to a red point in a previous frame?**  \n",
    "\n",
    "Therefore, we want to first match the two closest pair of points. Then, the next ones and so on.  \n",
    "```D.min(axis=1)``` gives as the minimal value of D at each row"
   ]
  },
  {
   "cell_type": "code",
   "execution_count": 11,
   "metadata": {},
   "outputs": [
    {
     "data": {
      "text/plain": [
       "array([3.27553692, 1.70589385, 0.376467  ])"
      ]
     },
     "execution_count": 11,
     "metadata": {},
     "output_type": "execute_result"
    }
   ],
   "source": [
    "D.min(axis=1)"
   ]
  },
  {
   "cell_type": "markdown",
   "metadata": {},
   "source": [
    "We are interested however in the indexes at which each of these values is located in the matrix.  \n",
    "We use ```argsort``` to get those indexes sorted by lower to higher"
   ]
  },
  {
   "cell_type": "code",
   "execution_count": 15,
   "metadata": {},
   "outputs": [
    {
     "data": {
      "text/plain": [
       "array([2, 1, 0])"
      ]
     },
     "execution_count": 15,
     "metadata": {},
     "output_type": "execute_result"
    }
   ],
   "source": [
    "rows = D.min(axis=1).argsort()\n",
    "rows"
   ]
  },
  {
   "cell_type": "markdown",
   "metadata": {},
   "source": [
    "As we saw in the picture above, the third red point (index 2) is the closest one to any of the blue points. Then 2 and finally 1.  \n",
    "Now, we want to return the column indexes that matches the found points. This time we use the ```argmin``` method and sort by the rows"
   ]
  },
  {
   "cell_type": "code",
   "execution_count": 17,
   "metadata": {},
   "outputs": [
    {
     "data": {
      "text/plain": [
       "array([4, 1, 0])"
      ]
     },
     "execution_count": 17,
     "metadata": {},
     "output_type": "execute_result"
    }
   ],
   "source": [
    "cols = D.argmin(axis=1)[rows]\n",
    "cols"
   ]
  },
  {
   "cell_type": "markdown",
   "metadata": {},
   "source": [
    "(*) Remember to add 1 as Python indexes starts at 0\n",
    "If we look at the pairs ```(2,4)```, ```(1,1)```, ```(2,4)```, "
   ]
  }
 ],
 "metadata": {
  "kernelspec": {
   "display_name": "Python 3",
   "language": "python",
   "name": "python3"
  },
  "language_info": {
   "codemirror_mode": {
    "name": "ipython",
    "version": 3
   },
   "file_extension": ".py",
   "mimetype": "text/x-python",
   "name": "python",
   "nbconvert_exporter": "python",
   "pygments_lexer": "ipython3",
   "version": "3.6.6"
  },
  "varInspector": {
   "cols": {
    "lenName": 16,
    "lenType": 16,
    "lenVar": 40
   },
   "kernels_config": {
    "python": {
     "delete_cmd_postfix": "",
     "delete_cmd_prefix": "del ",
     "library": "var_list.py",
     "varRefreshCmd": "print(var_dic_list())"
    },
    "r": {
     "delete_cmd_postfix": ") ",
     "delete_cmd_prefix": "rm(",
     "library": "var_list.r",
     "varRefreshCmd": "cat(var_dic_list()) "
    }
   },
   "types_to_exclude": [
    "module",
    "function",
    "builtin_function_or_method",
    "instance",
    "_Feature"
   ],
   "window_display": false
  }
 },
 "nbformat": 4,
 "nbformat_minor": 2
}
