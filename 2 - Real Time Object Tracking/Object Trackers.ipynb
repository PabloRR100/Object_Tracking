{
 "cells": [
  {
   "cell_type": "markdown",
   "metadata": {},
   "source": [
    "# OpenCV Object Trackers\n",
    "\n",
    "Based on [Learn OpenCV Blog][learn_opencv]  \n",
    "\n",
    "```md\n",
    " **Dense Optical Flow - DOF**\n",
    "Algorithm to estimate the motion vector of every pixel in a video frame.\n",
    "\n",
    " **Sparse Optical Flow - SOF**\n",
    "Algorithm to track the locatiopn of a few feature points in an image.  \n",
    "\n",
    " **Kalman Filtering**\n",
    "Singal processing algorithm to predict the location of a moving object based on prior motion information.  \n",
    "\n",
    " **Meanshift and Camshift**\n",
    "Algorithms for locating the maxima of a density function.  \n",
    "```\n",
    "\n",
    "### Tracking vs Detection\n",
    "Detection can also work in real time.  \n",
    "\n",
    "We saw in our Centroid Tracking Algorithm that it worked pretty well performing a detection at every single frame on our video stream.  \n",
    "\n",
    "#### 1 - Tracking is faster \n",
    "In a tracking implementation, you know the location in the previous frame and the direction and speed of its motion. So in the next frame, you can use all this information to predict the location of the object in the next frame and do a small search around the expected location of the object to accurately locate the object.  \n",
    "\n",
    "##### Why don't we simply detect first and then track?\n",
    "Tracking benefits from the extra information it has, but you can also lose track of an object when they go behind an obstacle for an extended period of time or if they move so fast that the tracking algorithm cannot catch up.  \n",
    "It is also common for tracking algorithms to accumulate errors and the bounding box tracking the object slowly drifts away from the object it is tracking.  \n",
    "To solve these problems, ***a detection algorithm is run every so often*** when applying tracking.  \n",
    "\n",
    "#### 2 - Tracking helps when detection fails  \n",
    "Tracking can help detection when, for instance, an obstacle partially occluded the target. Tracking can handle some level of occlusion.\n",
    "\n",
    "\n",
    "### OpenCV Tracking API\n",
    "There are 8 different trackers available in OpenCV  \n",
    "\n",
    "##### BOOSTING Tracker\n",
    "- Based on an online version of AdaBoost (which is used in HAAR Cascade detectors)\n",
    "- Needs to be trained at runtime with + and - examples of the object\n",
    "- The initial BB is supplied (user / detector algorithm) is taking as the + examples (object)\n",
    "- Many patches around that BB are used as the - examples (background)\n",
    "- Given a new frame, the classifier is run on every pixel in the neighborhood of the previous location and the score of the classifier is recorded\n",
    "- As more frames come in, the classifier is updated with this additional data\n",
    "\n",
    "    **Cons:**\n",
    "- Trancking performance is really bad. It is not based on similarity\n",
    "\n",
    "##### MIL Tracker - Multiple Instance Learning  [MIL Project Page][milpage]\n",
    "- Instead of considering only the current location of the object as a positive example, it looks in a small neighborhood around the current location to generate several potential positive examples.  \n",
    "    **Cons:**\n",
    "- Does not recover from full oclussion\n",
    "\n",
    "##### KFC Tracker - Kernelized Correlation Filters . \n",
    "- Utilizes that fact that the multiple positive samples used in the MIL tracker have large overlapping regions to make faster and more accuracte predictions\n",
    "    **Cons:**\n",
    "- Does not recover from full oclussion\n",
    "\n",
    "\n",
    "##### TLD Tracker - Tracking, Learning and Detection\n",
    "- Decomposes the long term tracking task into three components \n",
    "    - (short term) tracking, \n",
    "    - learning\n",
    "    - detection\n",
    "- The detector localizes all appearances that have been observed so far and corrects the tracker if necessary.\n",
    "- The learning estimates detector’s errors and updates it to avoid these errors in the future\n",
    "    **Cons:**\n",
    "- Too many False Positives\n",
    "\n",
    "\n",
    "\n",
    "\n",
    "[//]: # (Links) \n",
    "[learn_opencv]: https://www.learnopencv.com/object-tracking-using-opencv-cpp-python/\n",
    "\n",
    "[milpage]: http://vision.ucsd.edu/~bbabenko/new/project_miltrack.shtml\n"
   ]
  },
  {
   "cell_type": "code",
   "execution_count": null,
   "metadata": {},
   "outputs": [],
   "source": []
  }
 ],
 "metadata": {
  "kernelspec": {
   "display_name": "Python 3",
   "language": "python",
   "name": "python3"
  },
  "language_info": {
   "codemirror_mode": {
    "name": "ipython",
    "version": 3
   },
   "file_extension": ".py",
   "mimetype": "text/x-python",
   "name": "python",
   "nbconvert_exporter": "python",
   "pygments_lexer": "ipython3",
   "version": "3.7.3"
  },
  "varInspector": {
   "cols": {
    "lenName": 16,
    "lenType": 16,
    "lenVar": 40
   },
   "kernels_config": {
    "python": {
     "delete_cmd_postfix": "",
     "delete_cmd_prefix": "del ",
     "library": "var_list.py",
     "varRefreshCmd": "print(var_dic_list())"
    },
    "r": {
     "delete_cmd_postfix": ") ",
     "delete_cmd_prefix": "rm(",
     "library": "var_list.r",
     "varRefreshCmd": "cat(var_dic_list()) "
    }
   },
   "types_to_exclude": [
    "module",
    "function",
    "builtin_function_or_method",
    "instance",
    "_Feature"
   ],
   "window_display": false
  }
 },
 "nbformat": 4,
 "nbformat_minor": 2
}
